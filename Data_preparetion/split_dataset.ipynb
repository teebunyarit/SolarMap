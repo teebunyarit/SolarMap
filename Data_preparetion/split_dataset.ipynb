{
 "cells": [
  {
   "cell_type": "code",
   "execution_count": 1,
   "id": "ad078f95",
   "metadata": {},
   "outputs": [],
   "source": [
    "import pandas as pd\n",
    "import numpy as np\n",
    "import os"
   ]
  },
  {
   "cell_type": "code",
   "execution_count": 2,
   "id": "9afbd615",
   "metadata": {},
   "outputs": [],
   "source": [
    "def train_test_split(df, test_size=0.2, random_state=42, split_by_k = True):\n",
    "        df['date'] = df.index.date\n",
    "        INDEX = df[['site_name','k']].copy()\n",
    "        INDEX['date']= INDEX.index.date\n",
    "        INDEX = INDEX.groupby(by=[df.index.date,'site_name']).mean()\n",
    "        INDEX.reset_index(level=1, inplace=True)\n",
    "        \n",
    "        if split_by_k :\n",
    "            klow = INDEX[INDEX.k<=0.3]\n",
    "            kmed = INDEX[(INDEX.k>0.3) & (INDEX.k<=0.6)]\n",
    "            khigh =  INDEX[(INDEX.k>0.6)]\n",
    "            klow_test = klow.sample(frac=test_size,random_state=random_state)\n",
    "            kmed_test = kmed.sample(frac=test_size,random_state=random_state)\n",
    "            khigh_test = khigh.sample(frac=test_size,random_state=random_state)\n",
    "            X_test = pd.concat([klow_test, kmed_test, khigh_test])\n",
    "\n",
    "        else:\n",
    "            X_test = INDEX.sample(frac=test_size, random_state = random_state)\n",
    "            \n",
    "        X_test.reset_index(inplace=True)\n",
    "        X_test = X_test.rename(columns={'index':'date'})\n",
    "        X_test = X_test.drop(columns = ['k'])\n",
    "        X_test = df.reset_index().merge(X_test,on=['date','site_name']).set_index('Datetime')\n",
    "        X_train = pd.concat([df,X_test]).drop_duplicates(keep=False)\n",
    "        X_train.drop(columns=['date']); X_test.drop(columns=['date'])\n",
    "        \n",
    "        return X_train, X_test"
   ]
  },
  {
   "cell_type": "code",
   "execution_count": 7,
   "id": "7130fc97",
   "metadata": {},
   "outputs": [],
   "source": [
    "TRIAN_FOLDER = 'C:\\\\Users\\\\Tee\\\\senior_project\\\\src\\\\code\\\\data\\\\training_data'\n",
    "CM_DATA = 'DATASET_cloudmask.csv'"
   ]
  },
  {
   "cell_type": "code",
   "execution_count": 8,
   "id": "f9f74191",
   "metadata": {},
   "outputs": [],
   "source": [
    "df = pd.read_csv(os.path.join(TRIAN_FOLDER,CM_DATA),parse_dates=['Datetime'],index_col='Datetime')"
   ]
  },
  {
   "cell_type": "code",
   "execution_count": 9,
   "id": "685bccb6",
   "metadata": {},
   "outputs": [],
   "source": [
    "X_train, X_test = train_test_split(df, test_size=0.2, random_state=42, split_by_k = False)"
   ]
  },
  {
   "cell_type": "code",
   "execution_count": 10,
   "id": "7ff3dd14",
   "metadata": {},
   "outputs": [],
   "source": [
    "proc = pd.concat([X_train, X_test])"
   ]
  },
  {
   "cell_type": "code",
   "execution_count": 11,
   "id": "d10d8dc3",
   "metadata": {},
   "outputs": [],
   "source": [
    "#proc.to_csv('separated_DATASET_cloudmask.csv') # export data"
   ]
  }
 ],
 "metadata": {
  "kernelspec": {
   "display_name": "Python 3 (ipykernel)",
   "language": "python",
   "name": "python3"
  },
  "language_info": {
   "codemirror_mode": {
    "name": "ipython",
    "version": 3
   },
   "file_extension": ".py",
   "mimetype": "text/x-python",
   "name": "python",
   "nbconvert_exporter": "python",
   "pygments_lexer": "ipython3",
   "version": "3.10.8"
  }
 },
 "nbformat": 4,
 "nbformat_minor": 5
}
