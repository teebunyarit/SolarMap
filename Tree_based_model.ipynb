{
 "cells": [
  {
   "cell_type": "code",
   "execution_count": 1,
   "id": "e2e7abb0",
   "metadata": {},
   "outputs": [],
   "source": [
    "import pandas as pd \n",
    "import numpy as np\n",
    "import os\n",
    "from sklearn.metrics import mean_absolute_error, mean_squared_error\n",
    "from xgboost import XGBRegressor\n",
    "from sklearn.ensemble import RandomForestRegressor\n",
    "from sklearn.model_selection import KFold, cross_val_score, train_test_split, GridSearchCV, cross_validate"
   ]
  },
  {
   "cell_type": "code",
   "execution_count": 2,
   "id": "f44c8f89",
   "metadata": {},
   "outputs": [],
   "source": [
    "DATA_FOLDER = 'C:\\\\Users\\\\Tee\\\\senior_project\\\\src\\\\Model_training\\\\dataset_not_cnn'\n",
    "ov_filename = 'separated_DATASET_ch1_overview.csv' # overview ch red dataset\n",
    "cm_filename = 'separated_DATASET_cloudmask.csv' # cloudmask dataset"
   ]
  },
  {
   "cell_type": "markdown",
   "id": "310f2928",
   "metadata": {},
   "source": [
    "## Overview ch red dataset"
   ]
  },
  {
   "cell_type": "code",
   "execution_count": 3,
   "id": "ec76e67e",
   "metadata": {},
   "outputs": [
    {
     "data": {
      "text/html": [
       "<div>\n",
       "<style scoped>\n",
       "    .dataframe tbody tr th:only-of-type {\n",
       "        vertical-align: middle;\n",
       "    }\n",
       "\n",
       "    .dataframe tbody tr th {\n",
       "        vertical-align: top;\n",
       "    }\n",
       "\n",
       "    .dataframe thead th {\n",
       "        text-align: right;\n",
       "    }\n",
       "</style>\n",
       "<table border=\"1\" class=\"dataframe\">\n",
       "  <thead>\n",
       "    <tr style=\"text-align: right;\">\n",
       "      <th></th>\n",
       "      <th>site_name</th>\n",
       "      <th>I</th>\n",
       "      <th>Iclr</th>\n",
       "      <th>k</th>\n",
       "      <th>k_bar</th>\n",
       "      <th>HR</th>\n",
       "      <th>CI0</th>\n",
       "      <th>CI1</th>\n",
       "      <th>CI_1</th>\n",
       "      <th>CI_2</th>\n",
       "      <th>...</th>\n",
       "      <th>CI_16</th>\n",
       "      <th>CI_17</th>\n",
       "      <th>CI_18</th>\n",
       "      <th>CI_19</th>\n",
       "      <th>CI_20</th>\n",
       "      <th>CI_21</th>\n",
       "      <th>CI_22</th>\n",
       "      <th>CI_23</th>\n",
       "      <th>CI_24</th>\n",
       "      <th>CI_25</th>\n",
       "    </tr>\n",
       "    <tr>\n",
       "      <th>Datetime</th>\n",
       "      <th></th>\n",
       "      <th></th>\n",
       "      <th></th>\n",
       "      <th></th>\n",
       "      <th></th>\n",
       "      <th></th>\n",
       "      <th></th>\n",
       "      <th></th>\n",
       "      <th></th>\n",
       "      <th></th>\n",
       "      <th></th>\n",
       "      <th></th>\n",
       "      <th></th>\n",
       "      <th></th>\n",
       "      <th></th>\n",
       "      <th></th>\n",
       "      <th></th>\n",
       "      <th></th>\n",
       "      <th></th>\n",
       "      <th></th>\n",
       "      <th></th>\n",
       "    </tr>\n",
       "  </thead>\n",
       "  <tbody>\n",
       "    <tr>\n",
       "      <th>2022-03-23 10:00:00+07:00</th>\n",
       "      <td>ISL001</td>\n",
       "      <td>805.9780</td>\n",
       "      <td>732.769967</td>\n",
       "      <td>1.099906</td>\n",
       "      <td>0.620564</td>\n",
       "      <td>10</td>\n",
       "      <td>0.498039</td>\n",
       "      <td>0.454902</td>\n",
       "      <td>0.615686</td>\n",
       "      <td>0.592157</td>\n",
       "      <td>...</td>\n",
       "      <td>0.549020</td>\n",
       "      <td>0.470588</td>\n",
       "      <td>0.505882</td>\n",
       "      <td>0.552941</td>\n",
       "      <td>0.588235</td>\n",
       "      <td>0.509804</td>\n",
       "      <td>0.501961</td>\n",
       "      <td>0.537255</td>\n",
       "      <td>0.560784</td>\n",
       "      <td>0.576471</td>\n",
       "    </tr>\n",
       "    <tr>\n",
       "      <th>2022-03-23 10:30:00+07:00</th>\n",
       "      <td>ISL001</td>\n",
       "      <td>512.6390</td>\n",
       "      <td>812.250731</td>\n",
       "      <td>0.631134</td>\n",
       "      <td>0.620564</td>\n",
       "      <td>10</td>\n",
       "      <td>0.439216</td>\n",
       "      <td>0.498039</td>\n",
       "      <td>0.478431</td>\n",
       "      <td>0.380392</td>\n",
       "      <td>...</td>\n",
       "      <td>0.509804</td>\n",
       "      <td>0.478431</td>\n",
       "      <td>0.439216</td>\n",
       "      <td>0.482353</td>\n",
       "      <td>0.545098</td>\n",
       "      <td>0.494118</td>\n",
       "      <td>0.454902</td>\n",
       "      <td>0.466667</td>\n",
       "      <td>0.572549</td>\n",
       "      <td>0.533333</td>\n",
       "    </tr>\n",
       "    <tr>\n",
       "      <th>2022-03-23 11:00:00+07:00</th>\n",
       "      <td>ISL001</td>\n",
       "      <td>494.7877</td>\n",
       "      <td>874.980215</td>\n",
       "      <td>0.565484</td>\n",
       "      <td>0.620564</td>\n",
       "      <td>11</td>\n",
       "      <td>0.576471</td>\n",
       "      <td>0.439216</td>\n",
       "      <td>0.603922</td>\n",
       "      <td>0.619608</td>\n",
       "      <td>...</td>\n",
       "      <td>0.486275</td>\n",
       "      <td>0.478431</td>\n",
       "      <td>0.525490</td>\n",
       "      <td>0.584314</td>\n",
       "      <td>0.576471</td>\n",
       "      <td>0.533333</td>\n",
       "      <td>0.513725</td>\n",
       "      <td>0.501961</td>\n",
       "      <td>0.552941</td>\n",
       "      <td>0.572549</td>\n",
       "    </tr>\n",
       "    <tr>\n",
       "      <th>2022-03-23 11:30:00+07:00</th>\n",
       "      <td>ISL001</td>\n",
       "      <td>314.8849</td>\n",
       "      <td>919.727489</td>\n",
       "      <td>0.342368</td>\n",
       "      <td>0.620564</td>\n",
       "      <td>11</td>\n",
       "      <td>0.666667</td>\n",
       "      <td>0.576471</td>\n",
       "      <td>0.407843</td>\n",
       "      <td>0.423529</td>\n",
       "      <td>...</td>\n",
       "      <td>0.576471</td>\n",
       "      <td>0.650980</td>\n",
       "      <td>0.682353</td>\n",
       "      <td>0.592157</td>\n",
       "      <td>0.603922</td>\n",
       "      <td>0.623529</td>\n",
       "      <td>0.694118</td>\n",
       "      <td>0.784314</td>\n",
       "      <td>0.745098</td>\n",
       "      <td>0.643137</td>\n",
       "    </tr>\n",
       "    <tr>\n",
       "      <th>2022-03-23 12:00:00+07:00</th>\n",
       "      <td>ISL001</td>\n",
       "      <td>297.7652</td>\n",
       "      <td>945.634812</td>\n",
       "      <td>0.314884</td>\n",
       "      <td>0.620564</td>\n",
       "      <td>12</td>\n",
       "      <td>0.882353</td>\n",
       "      <td>0.666667</td>\n",
       "      <td>0.658824</td>\n",
       "      <td>0.701961</td>\n",
       "      <td>...</td>\n",
       "      <td>0.874510</td>\n",
       "      <td>0.913725</td>\n",
       "      <td>0.905882</td>\n",
       "      <td>0.827451</td>\n",
       "      <td>0.725490</td>\n",
       "      <td>0.858824</td>\n",
       "      <td>0.890196</td>\n",
       "      <td>0.901961</td>\n",
       "      <td>0.788235</td>\n",
       "      <td>0.654902</td>\n",
       "    </tr>\n",
       "    <tr>\n",
       "      <th>...</th>\n",
       "      <td>...</td>\n",
       "      <td>...</td>\n",
       "      <td>...</td>\n",
       "      <td>...</td>\n",
       "      <td>...</td>\n",
       "      <td>...</td>\n",
       "      <td>...</td>\n",
       "      <td>...</td>\n",
       "      <td>...</td>\n",
       "      <td>...</td>\n",
       "      <td>...</td>\n",
       "      <td>...</td>\n",
       "      <td>...</td>\n",
       "      <td>...</td>\n",
       "      <td>...</td>\n",
       "      <td>...</td>\n",
       "      <td>...</td>\n",
       "      <td>...</td>\n",
       "      <td>...</td>\n",
       "      <td>...</td>\n",
       "      <td>...</td>\n",
       "    </tr>\n",
       "    <tr>\n",
       "      <th>2022-05-02 14:00:00+07:00</th>\n",
       "      <td>ISL022</td>\n",
       "      <td>309.9177</td>\n",
       "      <td>854.287175</td>\n",
       "      <td>0.362779</td>\n",
       "      <td>0.268058</td>\n",
       "      <td>14</td>\n",
       "      <td>0.737255</td>\n",
       "      <td>0.827451</td>\n",
       "      <td>0.760784</td>\n",
       "      <td>0.737255</td>\n",
       "      <td>...</td>\n",
       "      <td>0.784314</td>\n",
       "      <td>0.756863</td>\n",
       "      <td>0.752941</td>\n",
       "      <td>0.752941</td>\n",
       "      <td>0.768627</td>\n",
       "      <td>0.796078</td>\n",
       "      <td>0.788235</td>\n",
       "      <td>0.760784</td>\n",
       "      <td>0.764706</td>\n",
       "      <td>0.768627</td>\n",
       "    </tr>\n",
       "    <tr>\n",
       "      <th>2022-05-02 14:30:00+07:00</th>\n",
       "      <td>ISL022</td>\n",
       "      <td>390.1934</td>\n",
       "      <td>778.783600</td>\n",
       "      <td>0.501029</td>\n",
       "      <td>0.268058</td>\n",
       "      <td>14</td>\n",
       "      <td>0.772549</td>\n",
       "      <td>0.737255</td>\n",
       "      <td>0.749020</td>\n",
       "      <td>0.768627</td>\n",
       "      <td>...</td>\n",
       "      <td>0.784314</td>\n",
       "      <td>0.792157</td>\n",
       "      <td>0.788235</td>\n",
       "      <td>0.800000</td>\n",
       "      <td>0.796078</td>\n",
       "      <td>0.792157</td>\n",
       "      <td>0.803922</td>\n",
       "      <td>0.800000</td>\n",
       "      <td>0.807843</td>\n",
       "      <td>0.800000</td>\n",
       "    </tr>\n",
       "    <tr>\n",
       "      <th>2022-05-02 15:00:00+07:00</th>\n",
       "      <td>ISL022</td>\n",
       "      <td>204.8253</td>\n",
       "      <td>688.646819</td>\n",
       "      <td>0.297432</td>\n",
       "      <td>0.268058</td>\n",
       "      <td>15</td>\n",
       "      <td>0.764706</td>\n",
       "      <td>0.772549</td>\n",
       "      <td>0.729412</td>\n",
       "      <td>0.768627</td>\n",
       "      <td>...</td>\n",
       "      <td>0.682353</td>\n",
       "      <td>0.752941</td>\n",
       "      <td>0.721569</td>\n",
       "      <td>0.741176</td>\n",
       "      <td>0.807843</td>\n",
       "      <td>0.709804</td>\n",
       "      <td>0.698039</td>\n",
       "      <td>0.737255</td>\n",
       "      <td>0.733333</td>\n",
       "      <td>0.768627</td>\n",
       "    </tr>\n",
       "    <tr>\n",
       "      <th>2022-05-02 15:30:00+07:00</th>\n",
       "      <td>ISL022</td>\n",
       "      <td>174.1831</td>\n",
       "      <td>585.756800</td>\n",
       "      <td>0.297364</td>\n",
       "      <td>0.268058</td>\n",
       "      <td>15</td>\n",
       "      <td>0.823529</td>\n",
       "      <td>0.764706</td>\n",
       "      <td>0.780392</td>\n",
       "      <td>0.843137</td>\n",
       "      <td>...</td>\n",
       "      <td>0.784314</td>\n",
       "      <td>0.796078</td>\n",
       "      <td>0.803922</td>\n",
       "      <td>0.796078</td>\n",
       "      <td>0.811765</td>\n",
       "      <td>0.800000</td>\n",
       "      <td>0.796078</td>\n",
       "      <td>0.807843</td>\n",
       "      <td>0.811765</td>\n",
       "      <td>0.823529</td>\n",
       "    </tr>\n",
       "    <tr>\n",
       "      <th>2022-05-02 16:00:00+07:00</th>\n",
       "      <td>ISL022</td>\n",
       "      <td>215.6219</td>\n",
       "      <td>472.461414</td>\n",
       "      <td>0.456380</td>\n",
       "      <td>0.268058</td>\n",
       "      <td>16</td>\n",
       "      <td>0.776471</td>\n",
       "      <td>0.823529</td>\n",
       "      <td>0.807843</td>\n",
       "      <td>0.803922</td>\n",
       "      <td>...</td>\n",
       "      <td>0.792157</td>\n",
       "      <td>0.780392</td>\n",
       "      <td>0.741176</td>\n",
       "      <td>0.788235</td>\n",
       "      <td>0.792157</td>\n",
       "      <td>0.776471</td>\n",
       "      <td>0.839216</td>\n",
       "      <td>0.752941</td>\n",
       "      <td>0.819608</td>\n",
       "      <td>0.843137</td>\n",
       "    </tr>\n",
       "  </tbody>\n",
       "</table>\n",
       "<p>224127 rows × 32 columns</p>\n",
       "</div>"
      ],
      "text/plain": [
       "                          site_name         I        Iclr         k     k_bar  \\\n",
       "Datetime                                                                        \n",
       "2022-03-23 10:00:00+07:00    ISL001  805.9780  732.769967  1.099906  0.620564   \n",
       "2022-03-23 10:30:00+07:00    ISL001  512.6390  812.250731  0.631134  0.620564   \n",
       "2022-03-23 11:00:00+07:00    ISL001  494.7877  874.980215  0.565484  0.620564   \n",
       "2022-03-23 11:30:00+07:00    ISL001  314.8849  919.727489  0.342368  0.620564   \n",
       "2022-03-23 12:00:00+07:00    ISL001  297.7652  945.634812  0.314884  0.620564   \n",
       "...                             ...       ...         ...       ...       ...   \n",
       "2022-05-02 14:00:00+07:00    ISL022  309.9177  854.287175  0.362779  0.268058   \n",
       "2022-05-02 14:30:00+07:00    ISL022  390.1934  778.783600  0.501029  0.268058   \n",
       "2022-05-02 15:00:00+07:00    ISL022  204.8253  688.646819  0.297432  0.268058   \n",
       "2022-05-02 15:30:00+07:00    ISL022  174.1831  585.756800  0.297364  0.268058   \n",
       "2022-05-02 16:00:00+07:00    ISL022  215.6219  472.461414  0.456380  0.268058   \n",
       "\n",
       "                           HR       CI0       CI1      CI_1      CI_2  ...  \\\n",
       "Datetime                                                               ...   \n",
       "2022-03-23 10:00:00+07:00  10  0.498039  0.454902  0.615686  0.592157  ...   \n",
       "2022-03-23 10:30:00+07:00  10  0.439216  0.498039  0.478431  0.380392  ...   \n",
       "2022-03-23 11:00:00+07:00  11  0.576471  0.439216  0.603922  0.619608  ...   \n",
       "2022-03-23 11:30:00+07:00  11  0.666667  0.576471  0.407843  0.423529  ...   \n",
       "2022-03-23 12:00:00+07:00  12  0.882353  0.666667  0.658824  0.701961  ...   \n",
       "...                        ..       ...       ...       ...       ...  ...   \n",
       "2022-05-02 14:00:00+07:00  14  0.737255  0.827451  0.760784  0.737255  ...   \n",
       "2022-05-02 14:30:00+07:00  14  0.772549  0.737255  0.749020  0.768627  ...   \n",
       "2022-05-02 15:00:00+07:00  15  0.764706  0.772549  0.729412  0.768627  ...   \n",
       "2022-05-02 15:30:00+07:00  15  0.823529  0.764706  0.780392  0.843137  ...   \n",
       "2022-05-02 16:00:00+07:00  16  0.776471  0.823529  0.807843  0.803922  ...   \n",
       "\n",
       "                              CI_16     CI_17     CI_18     CI_19     CI_20  \\\n",
       "Datetime                                                                      \n",
       "2022-03-23 10:00:00+07:00  0.549020  0.470588  0.505882  0.552941  0.588235   \n",
       "2022-03-23 10:30:00+07:00  0.509804  0.478431  0.439216  0.482353  0.545098   \n",
       "2022-03-23 11:00:00+07:00  0.486275  0.478431  0.525490  0.584314  0.576471   \n",
       "2022-03-23 11:30:00+07:00  0.576471  0.650980  0.682353  0.592157  0.603922   \n",
       "2022-03-23 12:00:00+07:00  0.874510  0.913725  0.905882  0.827451  0.725490   \n",
       "...                             ...       ...       ...       ...       ...   \n",
       "2022-05-02 14:00:00+07:00  0.784314  0.756863  0.752941  0.752941  0.768627   \n",
       "2022-05-02 14:30:00+07:00  0.784314  0.792157  0.788235  0.800000  0.796078   \n",
       "2022-05-02 15:00:00+07:00  0.682353  0.752941  0.721569  0.741176  0.807843   \n",
       "2022-05-02 15:30:00+07:00  0.784314  0.796078  0.803922  0.796078  0.811765   \n",
       "2022-05-02 16:00:00+07:00  0.792157  0.780392  0.741176  0.788235  0.792157   \n",
       "\n",
       "                              CI_21     CI_22     CI_23     CI_24     CI_25  \n",
       "Datetime                                                                     \n",
       "2022-03-23 10:00:00+07:00  0.509804  0.501961  0.537255  0.560784  0.576471  \n",
       "2022-03-23 10:30:00+07:00  0.494118  0.454902  0.466667  0.572549  0.533333  \n",
       "2022-03-23 11:00:00+07:00  0.533333  0.513725  0.501961  0.552941  0.572549  \n",
       "2022-03-23 11:30:00+07:00  0.623529  0.694118  0.784314  0.745098  0.643137  \n",
       "2022-03-23 12:00:00+07:00  0.858824  0.890196  0.901961  0.788235  0.654902  \n",
       "...                             ...       ...       ...       ...       ...  \n",
       "2022-05-02 14:00:00+07:00  0.796078  0.788235  0.760784  0.764706  0.768627  \n",
       "2022-05-02 14:30:00+07:00  0.792157  0.803922  0.800000  0.807843  0.800000  \n",
       "2022-05-02 15:00:00+07:00  0.709804  0.698039  0.737255  0.733333  0.768627  \n",
       "2022-05-02 15:30:00+07:00  0.800000  0.796078  0.807843  0.811765  0.823529  \n",
       "2022-05-02 16:00:00+07:00  0.776471  0.839216  0.752941  0.819608  0.843137  \n",
       "\n",
       "[224127 rows x 32 columns]"
      ]
     },
     "execution_count": 3,
     "metadata": {},
     "output_type": "execute_result"
    }
   ],
   "source": [
    "df = pd.read_csv(os.path.join(DATA_FOLDER,ov_filename), index_col='Datetime', parse_dates=['Datetime'])\n",
    "df.dropna(inplace=True)\n",
    "df"
   ]
  },
  {
   "cell_type": "code",
   "execution_count": 7,
   "id": "8ec0d6b5",
   "metadata": {},
   "outputs": [],
   "source": [
    "X, y = df.drop(columns=['I','k','k_bar']), df[['CI0','site_name','I']] \n",
    "\n",
    "X_train, X_test, y_train, y_test = train_test_split(X.drop(columns=['site_name']), y, test_size=0.2, shuffle=False)\n",
    "compar = y_test.copy()\n",
    "y_train, y_test = y_train.I, y_test.I"
   ]
  },
  {
   "cell_type": "code",
   "execution_count": 8,
   "id": "505e43ed",
   "metadata": {},
   "outputs": [],
   "source": [
    "model1 = XGBRegressor()\n",
    "model2 = RandomForestRegressor()"
   ]
  },
  {
   "cell_type": "markdown",
   "id": "dc2aaeee",
   "metadata": {},
   "source": [
    "# Model Training"
   ]
  },
  {
   "cell_type": "markdown",
   "id": "5b741a0e",
   "metadata": {},
   "source": [
    "## Grid search XGBoost"
   ]
  },
  {
   "cell_type": "code",
   "execution_count": 16,
   "id": "f681262e",
   "metadata": {},
   "outputs": [
    {
     "name": "stdout",
     "output_type": "stream",
     "text": [
      "Fitting 5 folds for each of 96 candidates, totalling 480 fits\n"
     ]
    }
   ],
   "source": [
    "param_grid = {\n",
    "    'n_estimators':[100],\n",
    "    'max_depth':[6,8,10],\n",
    "    'min_child_weight':[5,7,9,11],\n",
    "    'colsample_bytree':[0.3,0.4,0.6,0.8],\n",
    "    'subsample':[0.8,1]}\n",
    "\n",
    "gcv1 = GridSearchCV(model1, param_grid, cv=5,scoring='neg_mean_absolute_error',verbose=2,n_jobs=-1)\n",
    "best_model1 = gcv1.fit(X_train,y_train)\n"
   ]
  },
  {
   "cell_type": "markdown",
   "id": "8647233c",
   "metadata": {},
   "source": [
    "## Grid search Random forest"
   ]
  },
  {
   "cell_type": "code",
   "execution_count": 9,
   "id": "39a555ef",
   "metadata": {},
   "outputs": [
    {
     "name": "stdout",
     "output_type": "stream",
     "text": [
      "Fitting 5 folds for each of 192 candidates, totalling 960 fits\n"
     ]
    }
   ],
   "source": [
    "n_estimators = [100]\n",
    "max_depth = [10,20,30,40]\n",
    "max_features = [6,9,12]\n",
    "min_samples_split = [4,8,16,32]\n",
    "min_samples_leaf =  [4,8,16,32]\n",
    "bootstrap = [True]\n",
    "\n",
    "\n",
    "param_grid = {'n_estimators': n_estimators,\n",
    "               'max_features': max_features,\n",
    "               'max_depth': max_depth,\n",
    "               'min_samples_split': min_samples_split,\n",
    "               'min_samples_leaf': min_samples_leaf,\n",
    "               'bootstrap': bootstrap}\n",
    "\n",
    "\n",
    "gcv2 = GridSearchCV(estimator = model2, param_grid = param_grid, \n",
    "                          cv = 5, n_jobs = -1, verbose = 2,scoring='neg_mean_absolute_error',return_train_score=True)\n",
    "\n",
    "best_model2 = gcv2.fit(X_train, y_train)"
   ]
  },
  {
   "cell_type": "code",
   "execution_count": 18,
   "id": "14865e86",
   "metadata": {
    "scrolled": true
   },
   "outputs": [
    {
     "data": {
      "text/plain": [
       "{'colsample_bytree': 0.4,\n",
       " 'max_depth': 6,\n",
       " 'min_child_weight': 7,\n",
       " 'n_estimators': 100,\n",
       " 'subsample': 1}"
      ]
     },
     "execution_count": 18,
     "metadata": {},
     "output_type": "execute_result"
    }
   ],
   "source": [
    "data = pd.DataFrame(best_model1.cv_results_)\n",
    "data.to_csv('gcv1.csv')\n",
    "best_model1.best_params_"
   ]
  },
  {
   "cell_type": "code",
   "execution_count": 10,
   "id": "e7b3a5e9",
   "metadata": {
    "scrolled": true
   },
   "outputs": [
    {
     "data": {
      "text/plain": [
       "{'bootstrap': True,\n",
       " 'max_depth': 40,\n",
       " 'max_features': 12,\n",
       " 'min_samples_leaf': 4,\n",
       " 'min_samples_split': 8,\n",
       " 'n_estimators': 100}"
      ]
     },
     "execution_count": 10,
     "metadata": {},
     "output_type": "execute_result"
    }
   ],
   "source": [
    "data = pd.DataFrame(best_model2.cv_results_)\n",
    "data.to_csv('gcv2.csv')\n",
    "best_model2.best_params_"
   ]
  },
  {
   "cell_type": "markdown",
   "id": "4ede3b01",
   "metadata": {},
   "source": [
    "# Model retraining"
   ]
  },
  {
   "cell_type": "code",
   "execution_count": 9,
   "id": "4f6eeee3",
   "metadata": {},
   "outputs": [
    {
     "data": {
      "text/html": [
       "<style>#sk-container-id-1 {color: black;background-color: white;}#sk-container-id-1 pre{padding: 0;}#sk-container-id-1 div.sk-toggleable {background-color: white;}#sk-container-id-1 label.sk-toggleable__label {cursor: pointer;display: block;width: 100%;margin-bottom: 0;padding: 0.3em;box-sizing: border-box;text-align: center;}#sk-container-id-1 label.sk-toggleable__label-arrow:before {content: \"▸\";float: left;margin-right: 0.25em;color: #696969;}#sk-container-id-1 label.sk-toggleable__label-arrow:hover:before {color: black;}#sk-container-id-1 div.sk-estimator:hover label.sk-toggleable__label-arrow:before {color: black;}#sk-container-id-1 div.sk-toggleable__content {max-height: 0;max-width: 0;overflow: hidden;text-align: left;background-color: #f0f8ff;}#sk-container-id-1 div.sk-toggleable__content pre {margin: 0.2em;color: black;border-radius: 0.25em;background-color: #f0f8ff;}#sk-container-id-1 input.sk-toggleable__control:checked~div.sk-toggleable__content {max-height: 200px;max-width: 100%;overflow: auto;}#sk-container-id-1 input.sk-toggleable__control:checked~label.sk-toggleable__label-arrow:before {content: \"▾\";}#sk-container-id-1 div.sk-estimator input.sk-toggleable__control:checked~label.sk-toggleable__label {background-color: #d4ebff;}#sk-container-id-1 div.sk-label input.sk-toggleable__control:checked~label.sk-toggleable__label {background-color: #d4ebff;}#sk-container-id-1 input.sk-hidden--visually {border: 0;clip: rect(1px 1px 1px 1px);clip: rect(1px, 1px, 1px, 1px);height: 1px;margin: -1px;overflow: hidden;padding: 0;position: absolute;width: 1px;}#sk-container-id-1 div.sk-estimator {font-family: monospace;background-color: #f0f8ff;border: 1px dotted black;border-radius: 0.25em;box-sizing: border-box;margin-bottom: 0.5em;}#sk-container-id-1 div.sk-estimator:hover {background-color: #d4ebff;}#sk-container-id-1 div.sk-parallel-item::after {content: \"\";width: 100%;border-bottom: 1px solid gray;flex-grow: 1;}#sk-container-id-1 div.sk-label:hover label.sk-toggleable__label {background-color: #d4ebff;}#sk-container-id-1 div.sk-serial::before {content: \"\";position: absolute;border-left: 1px solid gray;box-sizing: border-box;top: 0;bottom: 0;left: 50%;z-index: 0;}#sk-container-id-1 div.sk-serial {display: flex;flex-direction: column;align-items: center;background-color: white;padding-right: 0.2em;padding-left: 0.2em;position: relative;}#sk-container-id-1 div.sk-item {position: relative;z-index: 1;}#sk-container-id-1 div.sk-parallel {display: flex;align-items: stretch;justify-content: center;background-color: white;position: relative;}#sk-container-id-1 div.sk-item::before, #sk-container-id-1 div.sk-parallel-item::before {content: \"\";position: absolute;border-left: 1px solid gray;box-sizing: border-box;top: 0;bottom: 0;left: 50%;z-index: -1;}#sk-container-id-1 div.sk-parallel-item {display: flex;flex-direction: column;z-index: 1;position: relative;background-color: white;}#sk-container-id-1 div.sk-parallel-item:first-child::after {align-self: flex-end;width: 50%;}#sk-container-id-1 div.sk-parallel-item:last-child::after {align-self: flex-start;width: 50%;}#sk-container-id-1 div.sk-parallel-item:only-child::after {width: 0;}#sk-container-id-1 div.sk-dashed-wrapped {border: 1px dashed gray;margin: 0 0.4em 0.5em 0.4em;box-sizing: border-box;padding-bottom: 0.4em;background-color: white;}#sk-container-id-1 div.sk-label label {font-family: monospace;font-weight: bold;display: inline-block;line-height: 1.2em;}#sk-container-id-1 div.sk-label-container {text-align: center;}#sk-container-id-1 div.sk-container {/* jupyter's `normalize.less` sets `[hidden] { display: none; }` but bootstrap.min.css set `[hidden] { display: none !important; }` so we also need the `!important` here to be able to override the default hidden behavior on the sphinx rendered scikit-learn.org. See: https://github.com/scikit-learn/scikit-learn/issues/21755 */display: inline-block !important;position: relative;}#sk-container-id-1 div.sk-text-repr-fallback {display: none;}</style><div id=\"sk-container-id-1\" class=\"sk-top-container\"><div class=\"sk-text-repr-fallback\"><pre>XGBRegressor(base_score=None, booster=None, callbacks=None,\n",
       "             colsample_bylevel=None, colsample_bynode=None,\n",
       "             colsample_bytree=0.4, early_stopping_rounds=None,\n",
       "             enable_categorical=False, eval_metric=None, feature_types=None,\n",
       "             gamma=None, gpu_id=None, grow_policy=None, importance_type=None,\n",
       "             interaction_constraints=None, learning_rate=None, max_bin=None,\n",
       "             max_cat_threshold=None, max_cat_to_onehot=None,\n",
       "             max_delta_step=None, max_depth=6, max_leaves=None,\n",
       "             min_child_weight=7, missing=nan, monotone_constraints=None,\n",
       "             n_estimators=100, n_jobs=None, num_parallel_tree=None,\n",
       "             predictor=None, random_state=None, ...)</pre><b>In a Jupyter environment, please rerun this cell to show the HTML representation or trust the notebook. <br />On GitHub, the HTML representation is unable to render, please try loading this page with nbviewer.org.</b></div><div class=\"sk-container\" hidden><div class=\"sk-item\"><div class=\"sk-estimator sk-toggleable\"><input class=\"sk-toggleable__control sk-hidden--visually\" id=\"sk-estimator-id-1\" type=\"checkbox\" checked><label for=\"sk-estimator-id-1\" class=\"sk-toggleable__label sk-toggleable__label-arrow\">XGBRegressor</label><div class=\"sk-toggleable__content\"><pre>XGBRegressor(base_score=None, booster=None, callbacks=None,\n",
       "             colsample_bylevel=None, colsample_bynode=None,\n",
       "             colsample_bytree=0.4, early_stopping_rounds=None,\n",
       "             enable_categorical=False, eval_metric=None, feature_types=None,\n",
       "             gamma=None, gpu_id=None, grow_policy=None, importance_type=None,\n",
       "             interaction_constraints=None, learning_rate=None, max_bin=None,\n",
       "             max_cat_threshold=None, max_cat_to_onehot=None,\n",
       "             max_delta_step=None, max_depth=6, max_leaves=None,\n",
       "             min_child_weight=7, missing=nan, monotone_constraints=None,\n",
       "             n_estimators=100, n_jobs=None, num_parallel_tree=None,\n",
       "             predictor=None, random_state=None, ...)</pre></div></div></div></div></div>"
      ],
      "text/plain": [
       "XGBRegressor(base_score=None, booster=None, callbacks=None,\n",
       "             colsample_bylevel=None, colsample_bynode=None,\n",
       "             colsample_bytree=0.4, early_stopping_rounds=None,\n",
       "             enable_categorical=False, eval_metric=None, feature_types=None,\n",
       "             gamma=None, gpu_id=None, grow_policy=None, importance_type=None,\n",
       "             interaction_constraints=None, learning_rate=None, max_bin=None,\n",
       "             max_cat_threshold=None, max_cat_to_onehot=None,\n",
       "             max_delta_step=None, max_depth=6, max_leaves=None,\n",
       "             min_child_weight=7, missing=nan, monotone_constraints=None,\n",
       "             n_estimators=100, n_jobs=None, num_parallel_tree=None,\n",
       "             predictor=None, random_state=None, ...)"
      ]
     },
     "execution_count": 9,
     "metadata": {},
     "output_type": "execute_result"
    }
   ],
   "source": [
    "XGB = XGBRegressor(n_estimators=100,max_depth=6,min_child_weight=7,colsample_bytree=0.4,subsample=1)\n",
    "XGB.fit(X_train,y_train)"
   ]
  },
  {
   "cell_type": "code",
   "execution_count": 10,
   "id": "f5e50d16",
   "metadata": {
    "scrolled": true
   },
   "outputs": [
    {
     "data": {
      "text/html": [
       "<style>#sk-container-id-2 {color: black;background-color: white;}#sk-container-id-2 pre{padding: 0;}#sk-container-id-2 div.sk-toggleable {background-color: white;}#sk-container-id-2 label.sk-toggleable__label {cursor: pointer;display: block;width: 100%;margin-bottom: 0;padding: 0.3em;box-sizing: border-box;text-align: center;}#sk-container-id-2 label.sk-toggleable__label-arrow:before {content: \"▸\";float: left;margin-right: 0.25em;color: #696969;}#sk-container-id-2 label.sk-toggleable__label-arrow:hover:before {color: black;}#sk-container-id-2 div.sk-estimator:hover label.sk-toggleable__label-arrow:before {color: black;}#sk-container-id-2 div.sk-toggleable__content {max-height: 0;max-width: 0;overflow: hidden;text-align: left;background-color: #f0f8ff;}#sk-container-id-2 div.sk-toggleable__content pre {margin: 0.2em;color: black;border-radius: 0.25em;background-color: #f0f8ff;}#sk-container-id-2 input.sk-toggleable__control:checked~div.sk-toggleable__content {max-height: 200px;max-width: 100%;overflow: auto;}#sk-container-id-2 input.sk-toggleable__control:checked~label.sk-toggleable__label-arrow:before {content: \"▾\";}#sk-container-id-2 div.sk-estimator input.sk-toggleable__control:checked~label.sk-toggleable__label {background-color: #d4ebff;}#sk-container-id-2 div.sk-label input.sk-toggleable__control:checked~label.sk-toggleable__label {background-color: #d4ebff;}#sk-container-id-2 input.sk-hidden--visually {border: 0;clip: rect(1px 1px 1px 1px);clip: rect(1px, 1px, 1px, 1px);height: 1px;margin: -1px;overflow: hidden;padding: 0;position: absolute;width: 1px;}#sk-container-id-2 div.sk-estimator {font-family: monospace;background-color: #f0f8ff;border: 1px dotted black;border-radius: 0.25em;box-sizing: border-box;margin-bottom: 0.5em;}#sk-container-id-2 div.sk-estimator:hover {background-color: #d4ebff;}#sk-container-id-2 div.sk-parallel-item::after {content: \"\";width: 100%;border-bottom: 1px solid gray;flex-grow: 1;}#sk-container-id-2 div.sk-label:hover label.sk-toggleable__label {background-color: #d4ebff;}#sk-container-id-2 div.sk-serial::before {content: \"\";position: absolute;border-left: 1px solid gray;box-sizing: border-box;top: 0;bottom: 0;left: 50%;z-index: 0;}#sk-container-id-2 div.sk-serial {display: flex;flex-direction: column;align-items: center;background-color: white;padding-right: 0.2em;padding-left: 0.2em;position: relative;}#sk-container-id-2 div.sk-item {position: relative;z-index: 1;}#sk-container-id-2 div.sk-parallel {display: flex;align-items: stretch;justify-content: center;background-color: white;position: relative;}#sk-container-id-2 div.sk-item::before, #sk-container-id-2 div.sk-parallel-item::before {content: \"\";position: absolute;border-left: 1px solid gray;box-sizing: border-box;top: 0;bottom: 0;left: 50%;z-index: -1;}#sk-container-id-2 div.sk-parallel-item {display: flex;flex-direction: column;z-index: 1;position: relative;background-color: white;}#sk-container-id-2 div.sk-parallel-item:first-child::after {align-self: flex-end;width: 50%;}#sk-container-id-2 div.sk-parallel-item:last-child::after {align-self: flex-start;width: 50%;}#sk-container-id-2 div.sk-parallel-item:only-child::after {width: 0;}#sk-container-id-2 div.sk-dashed-wrapped {border: 1px dashed gray;margin: 0 0.4em 0.5em 0.4em;box-sizing: border-box;padding-bottom: 0.4em;background-color: white;}#sk-container-id-2 div.sk-label label {font-family: monospace;font-weight: bold;display: inline-block;line-height: 1.2em;}#sk-container-id-2 div.sk-label-container {text-align: center;}#sk-container-id-2 div.sk-container {/* jupyter's `normalize.less` sets `[hidden] { display: none; }` but bootstrap.min.css set `[hidden] { display: none !important; }` so we also need the `!important` here to be able to override the default hidden behavior on the sphinx rendered scikit-learn.org. See: https://github.com/scikit-learn/scikit-learn/issues/21755 */display: inline-block !important;position: relative;}#sk-container-id-2 div.sk-text-repr-fallback {display: none;}</style><div id=\"sk-container-id-2\" class=\"sk-top-container\"><div class=\"sk-text-repr-fallback\"><pre>RandomForestRegressor(max_depth=40, max_features=12, min_samples_leaf=16,\n",
       "                      min_samples_split=8)</pre><b>In a Jupyter environment, please rerun this cell to show the HTML representation or trust the notebook. <br />On GitHub, the HTML representation is unable to render, please try loading this page with nbviewer.org.</b></div><div class=\"sk-container\" hidden><div class=\"sk-item\"><div class=\"sk-estimator sk-toggleable\"><input class=\"sk-toggleable__control sk-hidden--visually\" id=\"sk-estimator-id-2\" type=\"checkbox\" checked><label for=\"sk-estimator-id-2\" class=\"sk-toggleable__label sk-toggleable__label-arrow\">RandomForestRegressor</label><div class=\"sk-toggleable__content\"><pre>RandomForestRegressor(max_depth=40, max_features=12, min_samples_leaf=16,\n",
       "                      min_samples_split=8)</pre></div></div></div></div></div>"
      ],
      "text/plain": [
       "RandomForestRegressor(max_depth=40, max_features=12, min_samples_leaf=16,\n",
       "                      min_samples_split=8)"
      ]
     },
     "execution_count": 10,
     "metadata": {},
     "output_type": "execute_result"
    }
   ],
   "source": [
    "RF = RandomForestRegressor(n_estimators=100,max_depth=40,max_features=12,min_samples_leaf=4,min_samples_split=8,bootstrap=True)\n",
    "RF.fit(X_train,y_train)"
   ]
  },
  {
   "cell_type": "code",
   "execution_count": 11,
   "id": "b43393cf",
   "metadata": {
    "scrolled": true
   },
   "outputs": [
    {
     "data": {
      "text/html": [
       "<div>\n",
       "<style scoped>\n",
       "    .dataframe tbody tr th:only-of-type {\n",
       "        vertical-align: middle;\n",
       "    }\n",
       "\n",
       "    .dataframe tbody tr th {\n",
       "        vertical-align: top;\n",
       "    }\n",
       "\n",
       "    .dataframe thead th {\n",
       "        text-align: right;\n",
       "    }\n",
       "</style>\n",
       "<table border=\"1\" class=\"dataframe\">\n",
       "  <thead>\n",
       "    <tr style=\"text-align: right;\">\n",
       "      <th></th>\n",
       "      <th>CI0</th>\n",
       "      <th>site_name</th>\n",
       "      <th>I</th>\n",
       "      <th>yXGB</th>\n",
       "      <th>yRF</th>\n",
       "    </tr>\n",
       "    <tr>\n",
       "      <th>Datetime</th>\n",
       "      <th></th>\n",
       "      <th></th>\n",
       "      <th></th>\n",
       "      <th></th>\n",
       "      <th></th>\n",
       "    </tr>\n",
       "  </thead>\n",
       "  <tbody>\n",
       "    <tr>\n",
       "      <th>2022-11-20 10:30:00+07:00</th>\n",
       "      <td>0.462745</td>\n",
       "      <td>ISL056</td>\n",
       "      <td>908.8742</td>\n",
       "      <td>591.541809</td>\n",
       "      <td>539.341878</td>\n",
       "    </tr>\n",
       "    <tr>\n",
       "      <th>2022-11-20 11:00:00+07:00</th>\n",
       "      <td>0.329412</td>\n",
       "      <td>ISL056</td>\n",
       "      <td>782.8207</td>\n",
       "      <td>710.690796</td>\n",
       "      <td>692.459815</td>\n",
       "    </tr>\n",
       "    <tr>\n",
       "      <th>2022-11-20 11:30:00+07:00</th>\n",
       "      <td>0.435294</td>\n",
       "      <td>ISL056</td>\n",
       "      <td>677.8542</td>\n",
       "      <td>642.735229</td>\n",
       "      <td>641.378256</td>\n",
       "    </tr>\n",
       "    <tr>\n",
       "      <th>2022-11-20 12:00:00+07:00</th>\n",
       "      <td>0.498039</td>\n",
       "      <td>ISL056</td>\n",
       "      <td>796.5240</td>\n",
       "      <td>650.757202</td>\n",
       "      <td>662.917620</td>\n",
       "    </tr>\n",
       "    <tr>\n",
       "      <th>2022-11-20 12:30:00+07:00</th>\n",
       "      <td>0.447059</td>\n",
       "      <td>ISL056</td>\n",
       "      <td>740.7089</td>\n",
       "      <td>638.954163</td>\n",
       "      <td>625.947241</td>\n",
       "    </tr>\n",
       "  </tbody>\n",
       "</table>\n",
       "</div>"
      ],
      "text/plain": [
       "                                CI0 site_name         I        yXGB  \\\n",
       "Datetime                                                              \n",
       "2022-11-20 10:30:00+07:00  0.462745    ISL056  908.8742  591.541809   \n",
       "2022-11-20 11:00:00+07:00  0.329412    ISL056  782.8207  710.690796   \n",
       "2022-11-20 11:30:00+07:00  0.435294    ISL056  677.8542  642.735229   \n",
       "2022-11-20 12:00:00+07:00  0.498039    ISL056  796.5240  650.757202   \n",
       "2022-11-20 12:30:00+07:00  0.447059    ISL056  740.7089  638.954163   \n",
       "\n",
       "                                  yRF  \n",
       "Datetime                               \n",
       "2022-11-20 10:30:00+07:00  539.341878  \n",
       "2022-11-20 11:00:00+07:00  692.459815  \n",
       "2022-11-20 11:30:00+07:00  641.378256  \n",
       "2022-11-20 12:00:00+07:00  662.917620  \n",
       "2022-11-20 12:30:00+07:00  625.947241  "
      ]
     },
     "execution_count": 11,
     "metadata": {},
     "output_type": "execute_result"
    }
   ],
   "source": [
    "#comparr = pd.DataFrame(y_test)\n",
    "compar['yXGB']=XGB.predict(X_test)\n",
    "compar['yRF']=RF.predict(X_test)\n",
    "compar.head()"
   ]
  },
  {
   "cell_type": "code",
   "execution_count": 13,
   "id": "9edd29ce",
   "metadata": {},
   "outputs": [],
   "source": [
    "compar.to_csv('Ihat_ovTree.csv')"
   ]
  },
  {
   "cell_type": "code",
   "execution_count": 12,
   "id": "10437feb",
   "metadata": {},
   "outputs": [],
   "source": [
    "compar.index= pd.to_datetime(compar.index)"
   ]
  },
  {
   "cell_type": "code",
   "execution_count": 13,
   "id": "9cf81037",
   "metadata": {},
   "outputs": [
    {
     "name": "stdout",
     "output_type": "stream",
     "text": [
      "MAE of XGBoosting is 106.22835806692164\n",
      "MAE of RF is 104.16699893480798\n"
     ]
    }
   ],
   "source": [
    "print('MAE of XGBoosting is {}'.format(mean_absolute_error(compar[['I']],compar[['yXGB']])))\n",
    "print('MAE of RF is {}'.format(mean_absolute_error(compar[['I']],compar[['yRF']])))"
   ]
  },
  {
   "cell_type": "markdown",
   "id": "3f0e472a",
   "metadata": {},
   "source": [
    "# Cloudmask dataset"
   ]
  },
  {
   "cell_type": "code",
   "execution_count": 4,
   "id": "2fec1e6b",
   "metadata": {},
   "outputs": [],
   "source": [
    "df = pd.read_csv(os.path.join(DATA_FOLDER,cm_filename), index_col='Datetime', parse_dates=['Datetime'])\n",
    "df.dropna(inplace=True)"
   ]
  },
  {
   "cell_type": "code",
   "execution_count": 16,
   "id": "e0a35d46",
   "metadata": {},
   "outputs": [],
   "source": [
    "X, y = df.drop(columns=['I','k','k_bar']), df[['CI0','site_name','I']] \n",
    "\n",
    "X_train, X_test, y_train, y_test = train_test_split(X.drop(columns=['site_name']), y, test_size=0.2, random_state=42, shuffle=False)\n",
    "compar2 = y_test.copy()\n",
    "y_train, y_test = y_train.I, y_test.I"
   ]
  },
  {
   "cell_type": "markdown",
   "id": "f29a7aaa",
   "metadata": {},
   "source": [
    "# Model retraining"
   ]
  },
  {
   "cell_type": "markdown",
   "id": "dc3e832a",
   "metadata": {},
   "source": [
    "model retraining use cloudmask dataset and hyperparameter "
   ]
  },
  {
   "cell_type": "code",
   "execution_count": 17,
   "id": "b689dcd4",
   "metadata": {},
   "outputs": [],
   "source": [
    "model1 = XGBRegressor()\n",
    "model2 = RandomForestRegressor()"
   ]
  },
  {
   "cell_type": "code",
   "execution_count": 18,
   "id": "98066386",
   "metadata": {},
   "outputs": [
    {
     "data": {
      "text/html": [
       "<style>#sk-container-id-3 {color: black;background-color: white;}#sk-container-id-3 pre{padding: 0;}#sk-container-id-3 div.sk-toggleable {background-color: white;}#sk-container-id-3 label.sk-toggleable__label {cursor: pointer;display: block;width: 100%;margin-bottom: 0;padding: 0.3em;box-sizing: border-box;text-align: center;}#sk-container-id-3 label.sk-toggleable__label-arrow:before {content: \"▸\";float: left;margin-right: 0.25em;color: #696969;}#sk-container-id-3 label.sk-toggleable__label-arrow:hover:before {color: black;}#sk-container-id-3 div.sk-estimator:hover label.sk-toggleable__label-arrow:before {color: black;}#sk-container-id-3 div.sk-toggleable__content {max-height: 0;max-width: 0;overflow: hidden;text-align: left;background-color: #f0f8ff;}#sk-container-id-3 div.sk-toggleable__content pre {margin: 0.2em;color: black;border-radius: 0.25em;background-color: #f0f8ff;}#sk-container-id-3 input.sk-toggleable__control:checked~div.sk-toggleable__content {max-height: 200px;max-width: 100%;overflow: auto;}#sk-container-id-3 input.sk-toggleable__control:checked~label.sk-toggleable__label-arrow:before {content: \"▾\";}#sk-container-id-3 div.sk-estimator input.sk-toggleable__control:checked~label.sk-toggleable__label {background-color: #d4ebff;}#sk-container-id-3 div.sk-label input.sk-toggleable__control:checked~label.sk-toggleable__label {background-color: #d4ebff;}#sk-container-id-3 input.sk-hidden--visually {border: 0;clip: rect(1px 1px 1px 1px);clip: rect(1px, 1px, 1px, 1px);height: 1px;margin: -1px;overflow: hidden;padding: 0;position: absolute;width: 1px;}#sk-container-id-3 div.sk-estimator {font-family: monospace;background-color: #f0f8ff;border: 1px dotted black;border-radius: 0.25em;box-sizing: border-box;margin-bottom: 0.5em;}#sk-container-id-3 div.sk-estimator:hover {background-color: #d4ebff;}#sk-container-id-3 div.sk-parallel-item::after {content: \"\";width: 100%;border-bottom: 1px solid gray;flex-grow: 1;}#sk-container-id-3 div.sk-label:hover label.sk-toggleable__label {background-color: #d4ebff;}#sk-container-id-3 div.sk-serial::before {content: \"\";position: absolute;border-left: 1px solid gray;box-sizing: border-box;top: 0;bottom: 0;left: 50%;z-index: 0;}#sk-container-id-3 div.sk-serial {display: flex;flex-direction: column;align-items: center;background-color: white;padding-right: 0.2em;padding-left: 0.2em;position: relative;}#sk-container-id-3 div.sk-item {position: relative;z-index: 1;}#sk-container-id-3 div.sk-parallel {display: flex;align-items: stretch;justify-content: center;background-color: white;position: relative;}#sk-container-id-3 div.sk-item::before, #sk-container-id-3 div.sk-parallel-item::before {content: \"\";position: absolute;border-left: 1px solid gray;box-sizing: border-box;top: 0;bottom: 0;left: 50%;z-index: -1;}#sk-container-id-3 div.sk-parallel-item {display: flex;flex-direction: column;z-index: 1;position: relative;background-color: white;}#sk-container-id-3 div.sk-parallel-item:first-child::after {align-self: flex-end;width: 50%;}#sk-container-id-3 div.sk-parallel-item:last-child::after {align-self: flex-start;width: 50%;}#sk-container-id-3 div.sk-parallel-item:only-child::after {width: 0;}#sk-container-id-3 div.sk-dashed-wrapped {border: 1px dashed gray;margin: 0 0.4em 0.5em 0.4em;box-sizing: border-box;padding-bottom: 0.4em;background-color: white;}#sk-container-id-3 div.sk-label label {font-family: monospace;font-weight: bold;display: inline-block;line-height: 1.2em;}#sk-container-id-3 div.sk-label-container {text-align: center;}#sk-container-id-3 div.sk-container {/* jupyter's `normalize.less` sets `[hidden] { display: none; }` but bootstrap.min.css set `[hidden] { display: none !important; }` so we also need the `!important` here to be able to override the default hidden behavior on the sphinx rendered scikit-learn.org. See: https://github.com/scikit-learn/scikit-learn/issues/21755 */display: inline-block !important;position: relative;}#sk-container-id-3 div.sk-text-repr-fallback {display: none;}</style><div id=\"sk-container-id-3\" class=\"sk-top-container\"><div class=\"sk-text-repr-fallback\"><pre>XGBRegressor(base_score=None, booster=None, callbacks=None,\n",
       "             colsample_bylevel=None, colsample_bynode=None,\n",
       "             colsample_bytree=0.4, early_stopping_rounds=None,\n",
       "             enable_categorical=False, eval_metric=None, feature_types=None,\n",
       "             gamma=None, gpu_id=None, grow_policy=None, importance_type=None,\n",
       "             interaction_constraints=None, learning_rate=None, max_bin=None,\n",
       "             max_cat_threshold=None, max_cat_to_onehot=None,\n",
       "             max_delta_step=None, max_depth=6, max_leaves=None,\n",
       "             min_child_weight=7, missing=nan, monotone_constraints=None,\n",
       "             n_estimators=100, n_jobs=None, num_parallel_tree=None,\n",
       "             predictor=None, random_state=None, ...)</pre><b>In a Jupyter environment, please rerun this cell to show the HTML representation or trust the notebook. <br />On GitHub, the HTML representation is unable to render, please try loading this page with nbviewer.org.</b></div><div class=\"sk-container\" hidden><div class=\"sk-item\"><div class=\"sk-estimator sk-toggleable\"><input class=\"sk-toggleable__control sk-hidden--visually\" id=\"sk-estimator-id-3\" type=\"checkbox\" checked><label for=\"sk-estimator-id-3\" class=\"sk-toggleable__label sk-toggleable__label-arrow\">XGBRegressor</label><div class=\"sk-toggleable__content\"><pre>XGBRegressor(base_score=None, booster=None, callbacks=None,\n",
       "             colsample_bylevel=None, colsample_bynode=None,\n",
       "             colsample_bytree=0.4, early_stopping_rounds=None,\n",
       "             enable_categorical=False, eval_metric=None, feature_types=None,\n",
       "             gamma=None, gpu_id=None, grow_policy=None, importance_type=None,\n",
       "             interaction_constraints=None, learning_rate=None, max_bin=None,\n",
       "             max_cat_threshold=None, max_cat_to_onehot=None,\n",
       "             max_delta_step=None, max_depth=6, max_leaves=None,\n",
       "             min_child_weight=7, missing=nan, monotone_constraints=None,\n",
       "             n_estimators=100, n_jobs=None, num_parallel_tree=None,\n",
       "             predictor=None, random_state=None, ...)</pre></div></div></div></div></div>"
      ],
      "text/plain": [
       "XGBRegressor(base_score=None, booster=None, callbacks=None,\n",
       "             colsample_bylevel=None, colsample_bynode=None,\n",
       "             colsample_bytree=0.4, early_stopping_rounds=None,\n",
       "             enable_categorical=False, eval_metric=None, feature_types=None,\n",
       "             gamma=None, gpu_id=None, grow_policy=None, importance_type=None,\n",
       "             interaction_constraints=None, learning_rate=None, max_bin=None,\n",
       "             max_cat_threshold=None, max_cat_to_onehot=None,\n",
       "             max_delta_step=None, max_depth=6, max_leaves=None,\n",
       "             min_child_weight=7, missing=nan, monotone_constraints=None,\n",
       "             n_estimators=100, n_jobs=None, num_parallel_tree=None,\n",
       "             predictor=None, random_state=None, ...)"
      ]
     },
     "execution_count": 18,
     "metadata": {},
     "output_type": "execute_result"
    }
   ],
   "source": [
    "XGB = XGBRegressor(n_estimators=100,max_depth=6,min_child_weight=7,colsample_bytree=0.4,subsample=1)\n",
    "XGB.fit(X_train,y_train)"
   ]
  },
  {
   "cell_type": "code",
   "execution_count": 19,
   "id": "e7f455fb",
   "metadata": {
    "scrolled": false
   },
   "outputs": [
    {
     "data": {
      "text/html": [
       "<style>#sk-container-id-4 {color: black;background-color: white;}#sk-container-id-4 pre{padding: 0;}#sk-container-id-4 div.sk-toggleable {background-color: white;}#sk-container-id-4 label.sk-toggleable__label {cursor: pointer;display: block;width: 100%;margin-bottom: 0;padding: 0.3em;box-sizing: border-box;text-align: center;}#sk-container-id-4 label.sk-toggleable__label-arrow:before {content: \"▸\";float: left;margin-right: 0.25em;color: #696969;}#sk-container-id-4 label.sk-toggleable__label-arrow:hover:before {color: black;}#sk-container-id-4 div.sk-estimator:hover label.sk-toggleable__label-arrow:before {color: black;}#sk-container-id-4 div.sk-toggleable__content {max-height: 0;max-width: 0;overflow: hidden;text-align: left;background-color: #f0f8ff;}#sk-container-id-4 div.sk-toggleable__content pre {margin: 0.2em;color: black;border-radius: 0.25em;background-color: #f0f8ff;}#sk-container-id-4 input.sk-toggleable__control:checked~div.sk-toggleable__content {max-height: 200px;max-width: 100%;overflow: auto;}#sk-container-id-4 input.sk-toggleable__control:checked~label.sk-toggleable__label-arrow:before {content: \"▾\";}#sk-container-id-4 div.sk-estimator input.sk-toggleable__control:checked~label.sk-toggleable__label {background-color: #d4ebff;}#sk-container-id-4 div.sk-label input.sk-toggleable__control:checked~label.sk-toggleable__label {background-color: #d4ebff;}#sk-container-id-4 input.sk-hidden--visually {border: 0;clip: rect(1px 1px 1px 1px);clip: rect(1px, 1px, 1px, 1px);height: 1px;margin: -1px;overflow: hidden;padding: 0;position: absolute;width: 1px;}#sk-container-id-4 div.sk-estimator {font-family: monospace;background-color: #f0f8ff;border: 1px dotted black;border-radius: 0.25em;box-sizing: border-box;margin-bottom: 0.5em;}#sk-container-id-4 div.sk-estimator:hover {background-color: #d4ebff;}#sk-container-id-4 div.sk-parallel-item::after {content: \"\";width: 100%;border-bottom: 1px solid gray;flex-grow: 1;}#sk-container-id-4 div.sk-label:hover label.sk-toggleable__label {background-color: #d4ebff;}#sk-container-id-4 div.sk-serial::before {content: \"\";position: absolute;border-left: 1px solid gray;box-sizing: border-box;top: 0;bottom: 0;left: 50%;z-index: 0;}#sk-container-id-4 div.sk-serial {display: flex;flex-direction: column;align-items: center;background-color: white;padding-right: 0.2em;padding-left: 0.2em;position: relative;}#sk-container-id-4 div.sk-item {position: relative;z-index: 1;}#sk-container-id-4 div.sk-parallel {display: flex;align-items: stretch;justify-content: center;background-color: white;position: relative;}#sk-container-id-4 div.sk-item::before, #sk-container-id-4 div.sk-parallel-item::before {content: \"\";position: absolute;border-left: 1px solid gray;box-sizing: border-box;top: 0;bottom: 0;left: 50%;z-index: -1;}#sk-container-id-4 div.sk-parallel-item {display: flex;flex-direction: column;z-index: 1;position: relative;background-color: white;}#sk-container-id-4 div.sk-parallel-item:first-child::after {align-self: flex-end;width: 50%;}#sk-container-id-4 div.sk-parallel-item:last-child::after {align-self: flex-start;width: 50%;}#sk-container-id-4 div.sk-parallel-item:only-child::after {width: 0;}#sk-container-id-4 div.sk-dashed-wrapped {border: 1px dashed gray;margin: 0 0.4em 0.5em 0.4em;box-sizing: border-box;padding-bottom: 0.4em;background-color: white;}#sk-container-id-4 div.sk-label label {font-family: monospace;font-weight: bold;display: inline-block;line-height: 1.2em;}#sk-container-id-4 div.sk-label-container {text-align: center;}#sk-container-id-4 div.sk-container {/* jupyter's `normalize.less` sets `[hidden] { display: none; }` but bootstrap.min.css set `[hidden] { display: none !important; }` so we also need the `!important` here to be able to override the default hidden behavior on the sphinx rendered scikit-learn.org. See: https://github.com/scikit-learn/scikit-learn/issues/21755 */display: inline-block !important;position: relative;}#sk-container-id-4 div.sk-text-repr-fallback {display: none;}</style><div id=\"sk-container-id-4\" class=\"sk-top-container\"><div class=\"sk-text-repr-fallback\"><pre>RandomForestRegressor(max_depth=40, max_features=12, min_samples_leaf=16,\n",
       "                      min_samples_split=8)</pre><b>In a Jupyter environment, please rerun this cell to show the HTML representation or trust the notebook. <br />On GitHub, the HTML representation is unable to render, please try loading this page with nbviewer.org.</b></div><div class=\"sk-container\" hidden><div class=\"sk-item\"><div class=\"sk-estimator sk-toggleable\"><input class=\"sk-toggleable__control sk-hidden--visually\" id=\"sk-estimator-id-4\" type=\"checkbox\" checked><label for=\"sk-estimator-id-4\" class=\"sk-toggleable__label sk-toggleable__label-arrow\">RandomForestRegressor</label><div class=\"sk-toggleable__content\"><pre>RandomForestRegressor(max_depth=40, max_features=12, min_samples_leaf=16,\n",
       "                      min_samples_split=8)</pre></div></div></div></div></div>"
      ],
      "text/plain": [
       "RandomForestRegressor(max_depth=40, max_features=12, min_samples_leaf=16,\n",
       "                      min_samples_split=8)"
      ]
     },
     "execution_count": 19,
     "metadata": {},
     "output_type": "execute_result"
    }
   ],
   "source": [
    "RF = RandomForestRegressor(n_estimators=100,max_depth=40,max_features=12,min_samples_leaf=4,min_samples_split=8,bootstrap=True)\n",
    "RF.fit(X_train,y_train)"
   ]
  },
  {
   "cell_type": "code",
   "execution_count": 21,
   "id": "df82f0dd",
   "metadata": {},
   "outputs": [],
   "source": [
    "compar2['yXGB']=XGB.predict(X_test)\n",
    "compar2['yRF']=RF.predict(X_test)"
   ]
  },
  {
   "cell_type": "code",
   "execution_count": 22,
   "id": "f75e5198",
   "metadata": {},
   "outputs": [],
   "source": [
    "compar2.to_csv('Ihat_cmTree.csv')"
   ]
  },
  {
   "cell_type": "code",
   "execution_count": 37,
   "id": "d594ea73",
   "metadata": {},
   "outputs": [
    {
     "name": "stdout",
     "output_type": "stream",
     "text": [
      "MAE of XGBoosting is 124.89915989834067\n",
      "MAE of RF is 120.31685347971091\n"
     ]
    }
   ],
   "source": [
    "print('MAE of XGBoosting is {}'.format(mean_absolute_error(compar2[['I']],compar2[['yXGB']])))\n",
    "print('MAE of RF is {}'.format(mean_absolute_error(compar2[['I']],compar2[['yRF']])))"
   ]
  }
 ],
 "metadata": {
  "kernelspec": {
   "display_name": "Python 3 (ipykernel)",
   "language": "python",
   "name": "python3"
  },
  "language_info": {
   "codemirror_mode": {
    "name": "ipython",
    "version": 3
   },
   "file_extension": ".py",
   "mimetype": "text/x-python",
   "name": "python",
   "nbconvert_exporter": "python",
   "pygments_lexer": "ipython3",
   "version": "3.10.8"
  }
 },
 "nbformat": 4,
 "nbformat_minor": 5
}
